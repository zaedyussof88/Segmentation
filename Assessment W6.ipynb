{
 "cells": [
  {
   "cell_type": "markdown",
   "id": "a802a1dd",
   "metadata": {},
   "source": [
    "# Top Seller Fashion Segmentation \n",
    "\n",
    "## Due date 2/2/24\n",
    "\n",
    "Fashion retail has a large and ever-increasing popularity and relevance, allowing customers to buy anytime finding the best offers and providing satisfactory experiences in the shops. Consequently, Customer Relationship Management solutions have been enhanced by means of several technologies to better understand the behaviour and requirements of customers, engaging and influencing them to improve their shopping experience, as well as increasing the retailers’ profitability. Current solutions on marketing provide a too general approach, pushing and suggesting on most cases, the popular or most purchased items, losing the focus on the customer centricity and personality. <br>\n",
    "\n",
    "\n",
    "In this task, you are required to perform a clustering algorithms based on top seller and total product listed."
   ]
  },
  {
   "cell_type": "markdown",
   "id": "7468438a",
   "metadata": {},
   "source": [
    "# import libraries"
   ]
  },
  {
   "cell_type": "code",
   "execution_count": 1,
   "id": "a19b4236",
   "metadata": {},
   "outputs": [],
   "source": [
    "import pandas as pd\n",
    "import numpy as np\n",
    "import matplotlib.pyplot as plt\n",
    "import seaborn as sns"
   ]
  },
  {
   "cell_type": "markdown",
   "id": "609d52f8",
   "metadata": {},
   "source": [
    "# import dataset"
   ]
  },
  {
   "cell_type": "code",
   "execution_count": 2,
   "id": "3b9b6af9",
   "metadata": {},
   "outputs": [],
   "source": [
    "data = pd.read_csv('countries_with_top_sellers_fashion_c2c.csv')"
   ]
  },
  {
   "cell_type": "markdown",
   "id": "e70d5db7",
   "metadata": {},
   "source": [
    "# Data Exploration"
   ]
  },
  {
   "cell_type": "code",
   "execution_count": 3,
   "id": "ebeb34b6",
   "metadata": {
    "scrolled": false
   },
   "outputs": [
    {
     "data": {
      "text/html": [
       "<div>\n",
       "<style scoped>\n",
       "    .dataframe tbody tr th:only-of-type {\n",
       "        vertical-align: middle;\n",
       "    }\n",
       "\n",
       "    .dataframe tbody tr th {\n",
       "        vertical-align: top;\n",
       "    }\n",
       "\n",
       "    .dataframe thead th {\n",
       "        text-align: right;\n",
       "    }\n",
       "</style>\n",
       "<table border=\"1\" class=\"dataframe\">\n",
       "  <thead>\n",
       "    <tr style=\"text-align: right;\">\n",
       "      <th></th>\n",
       "      <th>country</th>\n",
       "      <th>sellers</th>\n",
       "      <th>topsellers</th>\n",
       "      <th>topsellerratio</th>\n",
       "      <th>femalesellersratio</th>\n",
       "      <th>topfemalesellersratio</th>\n",
       "      <th>femalesellers</th>\n",
       "      <th>malesellers</th>\n",
       "      <th>topfemalesellers</th>\n",
       "      <th>topmalesellers</th>\n",
       "      <th>...</th>\n",
       "      <th>topmeanproductssold</th>\n",
       "      <th>topmeanproductslisted</th>\n",
       "      <th>meanproductssold</th>\n",
       "      <th>meanproductslisted</th>\n",
       "      <th>meanofflinedays</th>\n",
       "      <th>topmeanofflinedays</th>\n",
       "      <th>meanfollowers</th>\n",
       "      <th>meanfollowing</th>\n",
       "      <th>topmeanfollowers</th>\n",
       "      <th>topmeanfollowing</th>\n",
       "    </tr>\n",
       "  </thead>\n",
       "  <tbody>\n",
       "    <tr>\n",
       "      <th>0</th>\n",
       "      <td>Taiwan</td>\n",
       "      <td>1</td>\n",
       "      <td>1</td>\n",
       "      <td>100.0</td>\n",
       "      <td>100.0</td>\n",
       "      <td>100.0</td>\n",
       "      <td>1</td>\n",
       "      <td>0</td>\n",
       "      <td>1</td>\n",
       "      <td>0</td>\n",
       "      <td>...</td>\n",
       "      <td>57.000000</td>\n",
       "      <td>56.000000</td>\n",
       "      <td>57.000000</td>\n",
       "      <td>56.000000</td>\n",
       "      <td>11.0</td>\n",
       "      <td>11.0</td>\n",
       "      <td>83.0</td>\n",
       "      <td>8.0</td>\n",
       "      <td>83.0</td>\n",
       "      <td>8.0</td>\n",
       "    </tr>\n",
       "    <tr>\n",
       "      <th>1</th>\n",
       "      <td>Slovaquie</td>\n",
       "      <td>2</td>\n",
       "      <td>1</td>\n",
       "      <td>50.0</td>\n",
       "      <td>0.0</td>\n",
       "      <td>0.0</td>\n",
       "      <td>0</td>\n",
       "      <td>2</td>\n",
       "      <td>0</td>\n",
       "      <td>1</td>\n",
       "      <td>...</td>\n",
       "      <td>27.000000</td>\n",
       "      <td>14.000000</td>\n",
       "      <td>14.000000</td>\n",
       "      <td>7.000000</td>\n",
       "      <td>17.0</td>\n",
       "      <td>15.0</td>\n",
       "      <td>10.5</td>\n",
       "      <td>8.5</td>\n",
       "      <td>15.0</td>\n",
       "      <td>8.0</td>\n",
       "    </tr>\n",
       "    <tr>\n",
       "      <th>2</th>\n",
       "      <td>Lettonie</td>\n",
       "      <td>4</td>\n",
       "      <td>2</td>\n",
       "      <td>50.0</td>\n",
       "      <td>100.0</td>\n",
       "      <td>100.0</td>\n",
       "      <td>4</td>\n",
       "      <td>0</td>\n",
       "      <td>2</td>\n",
       "      <td>0</td>\n",
       "      <td>...</td>\n",
       "      <td>40.500000</td>\n",
       "      <td>18.000000</td>\n",
       "      <td>20.750000</td>\n",
       "      <td>9.000000</td>\n",
       "      <td>120.3</td>\n",
       "      <td>11.5</td>\n",
       "      <td>21.0</td>\n",
       "      <td>52.3</td>\n",
       "      <td>38.0</td>\n",
       "      <td>98.5</td>\n",
       "    </tr>\n",
       "    <tr>\n",
       "      <th>3</th>\n",
       "      <td>Bulgarie</td>\n",
       "      <td>9</td>\n",
       "      <td>4</td>\n",
       "      <td>44.4</td>\n",
       "      <td>66.7</td>\n",
       "      <td>100.0</td>\n",
       "      <td>6</td>\n",
       "      <td>3</td>\n",
       "      <td>4</td>\n",
       "      <td>0</td>\n",
       "      <td>...</td>\n",
       "      <td>36.250000</td>\n",
       "      <td>17.250000</td>\n",
       "      <td>18.888889</td>\n",
       "      <td>9.111111</td>\n",
       "      <td>98.3</td>\n",
       "      <td>19.0</td>\n",
       "      <td>28.6</td>\n",
       "      <td>31.6</td>\n",
       "      <td>46.3</td>\n",
       "      <td>19.0</td>\n",
       "    </tr>\n",
       "    <tr>\n",
       "      <th>4</th>\n",
       "      <td>Chypre</td>\n",
       "      <td>4</td>\n",
       "      <td>1</td>\n",
       "      <td>25.0</td>\n",
       "      <td>100.0</td>\n",
       "      <td>100.0</td>\n",
       "      <td>4</td>\n",
       "      <td>0</td>\n",
       "      <td>1</td>\n",
       "      <td>0</td>\n",
       "      <td>...</td>\n",
       "      <td>41.000000</td>\n",
       "      <td>66.000000</td>\n",
       "      <td>14.000000</td>\n",
       "      <td>20.250000</td>\n",
       "      <td>17.3</td>\n",
       "      <td>11.0</td>\n",
       "      <td>21.3</td>\n",
       "      <td>10.3</td>\n",
       "      <td>39.0</td>\n",
       "      <td>17.0</td>\n",
       "    </tr>\n",
       "    <tr>\n",
       "      <th>5</th>\n",
       "      <td>Monaco</td>\n",
       "      <td>5</td>\n",
       "      <td>1</td>\n",
       "      <td>20.0</td>\n",
       "      <td>100.0</td>\n",
       "      <td>100.0</td>\n",
       "      <td>5</td>\n",
       "      <td>0</td>\n",
       "      <td>1</td>\n",
       "      <td>0</td>\n",
       "      <td>...</td>\n",
       "      <td>170.000000</td>\n",
       "      <td>19.000000</td>\n",
       "      <td>38.000000</td>\n",
       "      <td>5.200000</td>\n",
       "      <td>51.6</td>\n",
       "      <td>12.0</td>\n",
       "      <td>39.6</td>\n",
       "      <td>8.0</td>\n",
       "      <td>167.0</td>\n",
       "      <td>8.0</td>\n",
       "    </tr>\n",
       "    <tr>\n",
       "      <th>6</th>\n",
       "      <td>Roumanie</td>\n",
       "      <td>13</td>\n",
       "      <td>2</td>\n",
       "      <td>15.4</td>\n",
       "      <td>76.9</td>\n",
       "      <td>50.0</td>\n",
       "      <td>10</td>\n",
       "      <td>3</td>\n",
       "      <td>1</td>\n",
       "      <td>1</td>\n",
       "      <td>...</td>\n",
       "      <td>24.500000</td>\n",
       "      <td>19.500000</td>\n",
       "      <td>5.230769</td>\n",
       "      <td>5.923077</td>\n",
       "      <td>121.6</td>\n",
       "      <td>11.0</td>\n",
       "      <td>10.9</td>\n",
       "      <td>11.5</td>\n",
       "      <td>30.0</td>\n",
       "      <td>32.0</td>\n",
       "    </tr>\n",
       "    <tr>\n",
       "      <th>7</th>\n",
       "      <td>Luxembourg</td>\n",
       "      <td>7</td>\n",
       "      <td>1</td>\n",
       "      <td>14.3</td>\n",
       "      <td>85.7</td>\n",
       "      <td>100.0</td>\n",
       "      <td>6</td>\n",
       "      <td>1</td>\n",
       "      <td>1</td>\n",
       "      <td>0</td>\n",
       "      <td>...</td>\n",
       "      <td>30.000000</td>\n",
       "      <td>0.000000</td>\n",
       "      <td>6.142857</td>\n",
       "      <td>1.142857</td>\n",
       "      <td>73.6</td>\n",
       "      <td>11.0</td>\n",
       "      <td>15.9</td>\n",
       "      <td>8.4</td>\n",
       "      <td>52.0</td>\n",
       "      <td>3.0</td>\n",
       "    </tr>\n",
       "    <tr>\n",
       "      <th>8</th>\n",
       "      <td>Espagne</td>\n",
       "      <td>119</td>\n",
       "      <td>13</td>\n",
       "      <td>10.9</td>\n",
       "      <td>81.5</td>\n",
       "      <td>76.9</td>\n",
       "      <td>97</td>\n",
       "      <td>22</td>\n",
       "      <td>10</td>\n",
       "      <td>3</td>\n",
       "      <td>...</td>\n",
       "      <td>46.692308</td>\n",
       "      <td>23.153846</td>\n",
       "      <td>8.319328</td>\n",
       "      <td>4.991597</td>\n",
       "      <td>202.4</td>\n",
       "      <td>30.5</td>\n",
       "      <td>16.1</td>\n",
       "      <td>14.6</td>\n",
       "      <td>53.2</td>\n",
       "      <td>14.5</td>\n",
       "    </tr>\n",
       "    <tr>\n",
       "      <th>9</th>\n",
       "      <td>Italie</td>\n",
       "      <td>347</td>\n",
       "      <td>35</td>\n",
       "      <td>10.1</td>\n",
       "      <td>71.5</td>\n",
       "      <td>65.7</td>\n",
       "      <td>248</td>\n",
       "      <td>99</td>\n",
       "      <td>23</td>\n",
       "      <td>12</td>\n",
       "      <td>...</td>\n",
       "      <td>39.685714</td>\n",
       "      <td>30.771429</td>\n",
       "      <td>8.126801</td>\n",
       "      <td>6.391931</td>\n",
       "      <td>141.8</td>\n",
       "      <td>26.5</td>\n",
       "      <td>16.1</td>\n",
       "      <td>54.6</td>\n",
       "      <td>63.4</td>\n",
       "      <td>429.3</td>\n",
       "    </tr>\n",
       "    <tr>\n",
       "      <th>10</th>\n",
       "      <td>Croatie</td>\n",
       "      <td>10</td>\n",
       "      <td>1</td>\n",
       "      <td>10.0</td>\n",
       "      <td>100.0</td>\n",
       "      <td>100.0</td>\n",
       "      <td>10</td>\n",
       "      <td>0</td>\n",
       "      <td>1</td>\n",
       "      <td>0</td>\n",
       "      <td>...</td>\n",
       "      <td>64.000000</td>\n",
       "      <td>44.000000</td>\n",
       "      <td>10.700000</td>\n",
       "      <td>6.900000</td>\n",
       "      <td>141.7</td>\n",
       "      <td>11.0</td>\n",
       "      <td>15.1</td>\n",
       "      <td>8.8</td>\n",
       "      <td>50.0</td>\n",
       "      <td>8.0</td>\n",
       "    </tr>\n",
       "    <tr>\n",
       "      <th>11</th>\n",
       "      <td>Hong Kong</td>\n",
       "      <td>10</td>\n",
       "      <td>1</td>\n",
       "      <td>10.0</td>\n",
       "      <td>70.0</td>\n",
       "      <td>100.0</td>\n",
       "      <td>7</td>\n",
       "      <td>3</td>\n",
       "      <td>1</td>\n",
       "      <td>0</td>\n",
       "      <td>...</td>\n",
       "      <td>23.000000</td>\n",
       "      <td>35.000000</td>\n",
       "      <td>5.000000</td>\n",
       "      <td>5.500000</td>\n",
       "      <td>49.6</td>\n",
       "      <td>11.0</td>\n",
       "      <td>14.7</td>\n",
       "      <td>15.5</td>\n",
       "      <td>36.0</td>\n",
       "      <td>41.0</td>\n",
       "    </tr>\n",
       "    <tr>\n",
       "      <th>12</th>\n",
       "      <td>Suède</td>\n",
       "      <td>32</td>\n",
       "      <td>3</td>\n",
       "      <td>9.4</td>\n",
       "      <td>81.3</td>\n",
       "      <td>66.7</td>\n",
       "      <td>26</td>\n",
       "      <td>6</td>\n",
       "      <td>2</td>\n",
       "      <td>1</td>\n",
       "      <td>...</td>\n",
       "      <td>67.333333</td>\n",
       "      <td>52.000000</td>\n",
       "      <td>10.500000</td>\n",
       "      <td>7.218750</td>\n",
       "      <td>118.2</td>\n",
       "      <td>12.7</td>\n",
       "      <td>19.8</td>\n",
       "      <td>24.0</td>\n",
       "      <td>102.7</td>\n",
       "      <td>172.0</td>\n",
       "    </tr>\n",
       "    <tr>\n",
       "      <th>13</th>\n",
       "      <td>Royaume-Uni</td>\n",
       "      <td>289</td>\n",
       "      <td>21</td>\n",
       "      <td>7.3</td>\n",
       "      <td>80.3</td>\n",
       "      <td>85.7</td>\n",
       "      <td>232</td>\n",
       "      <td>57</td>\n",
       "      <td>18</td>\n",
       "      <td>3</td>\n",
       "      <td>...</td>\n",
       "      <td>46.285714</td>\n",
       "      <td>21.380952</td>\n",
       "      <td>6.249135</td>\n",
       "      <td>3.207612</td>\n",
       "      <td>188.1</td>\n",
       "      <td>32.4</td>\n",
       "      <td>10.1</td>\n",
       "      <td>8.8</td>\n",
       "      <td>37.3</td>\n",
       "      <td>9.1</td>\n",
       "    </tr>\n",
       "    <tr>\n",
       "      <th>14</th>\n",
       "      <td>Autriche</td>\n",
       "      <td>18</td>\n",
       "      <td>1</td>\n",
       "      <td>5.6</td>\n",
       "      <td>77.8</td>\n",
       "      <td>100.0</td>\n",
       "      <td>14</td>\n",
       "      <td>4</td>\n",
       "      <td>1</td>\n",
       "      <td>0</td>\n",
       "      <td>...</td>\n",
       "      <td>20.000000</td>\n",
       "      <td>20.000000</td>\n",
       "      <td>3.722222</td>\n",
       "      <td>2.055556</td>\n",
       "      <td>138.7</td>\n",
       "      <td>11.0</td>\n",
       "      <td>7.0</td>\n",
       "      <td>8.6</td>\n",
       "      <td>17.0</td>\n",
       "      <td>10.0</td>\n",
       "    </tr>\n",
       "    <tr>\n",
       "      <th>15</th>\n",
       "      <td>Allemagne</td>\n",
       "      <td>105</td>\n",
       "      <td>5</td>\n",
       "      <td>4.8</td>\n",
       "      <td>75.2</td>\n",
       "      <td>80.0</td>\n",
       "      <td>79</td>\n",
       "      <td>26</td>\n",
       "      <td>4</td>\n",
       "      <td>1</td>\n",
       "      <td>...</td>\n",
       "      <td>56.400000</td>\n",
       "      <td>19.800000</td>\n",
       "      <td>5.104762</td>\n",
       "      <td>2.514286</td>\n",
       "      <td>168.2</td>\n",
       "      <td>79.4</td>\n",
       "      <td>10.7</td>\n",
       "      <td>8.8</td>\n",
       "      <td>53.2</td>\n",
       "      <td>10.6</td>\n",
       "    </tr>\n",
       "    <tr>\n",
       "      <th>16</th>\n",
       "      <td>Etats-Unis</td>\n",
       "      <td>150</td>\n",
       "      <td>6</td>\n",
       "      <td>4.0</td>\n",
       "      <td>78.7</td>\n",
       "      <td>83.3</td>\n",
       "      <td>118</td>\n",
       "      <td>32</td>\n",
       "      <td>5</td>\n",
       "      <td>1</td>\n",
       "      <td>...</td>\n",
       "      <td>93.000000</td>\n",
       "      <td>71.333333</td>\n",
       "      <td>6.446667</td>\n",
       "      <td>5.440000</td>\n",
       "      <td>266.1</td>\n",
       "      <td>76.8</td>\n",
       "      <td>14.6</td>\n",
       "      <td>10.2</td>\n",
       "      <td>105.0</td>\n",
       "      <td>17.2</td>\n",
       "    </tr>\n",
       "    <tr>\n",
       "      <th>17</th>\n",
       "      <td>Pays-Bas</td>\n",
       "      <td>54</td>\n",
       "      <td>2</td>\n",
       "      <td>3.7</td>\n",
       "      <td>77.8</td>\n",
       "      <td>50.0</td>\n",
       "      <td>42</td>\n",
       "      <td>12</td>\n",
       "      <td>1</td>\n",
       "      <td>1</td>\n",
       "      <td>...</td>\n",
       "      <td>23.500000</td>\n",
       "      <td>13.500000</td>\n",
       "      <td>3.962963</td>\n",
       "      <td>2.574074</td>\n",
       "      <td>177.4</td>\n",
       "      <td>22.0</td>\n",
       "      <td>11.4</td>\n",
       "      <td>9.6</td>\n",
       "      <td>21.5</td>\n",
       "      <td>10.0</td>\n",
       "    </tr>\n",
       "    <tr>\n",
       "      <th>18</th>\n",
       "      <td>France</td>\n",
       "      <td>713</td>\n",
       "      <td>25</td>\n",
       "      <td>3.5</td>\n",
       "      <td>73.4</td>\n",
       "      <td>80.0</td>\n",
       "      <td>523</td>\n",
       "      <td>190</td>\n",
       "      <td>20</td>\n",
       "      <td>5</td>\n",
       "      <td>...</td>\n",
       "      <td>44.360000</td>\n",
       "      <td>31.680000</td>\n",
       "      <td>4.227209</td>\n",
       "      <td>2.653576</td>\n",
       "      <td>227.1</td>\n",
       "      <td>36.6</td>\n",
       "      <td>8.9</td>\n",
       "      <td>28.3</td>\n",
       "      <td>41.3</td>\n",
       "      <td>156.2</td>\n",
       "    </tr>\n",
       "  </tbody>\n",
       "</table>\n",
       "<p>19 rows × 26 columns</p>\n",
       "</div>"
      ],
      "text/plain": [
       "        country  sellers  topsellers  topsellerratio  femalesellersratio  \\\n",
       "0        Taiwan        1           1           100.0               100.0   \n",
       "1     Slovaquie        2           1            50.0                 0.0   \n",
       "2      Lettonie        4           2            50.0               100.0   \n",
       "3      Bulgarie        9           4            44.4                66.7   \n",
       "4        Chypre        4           1            25.0               100.0   \n",
       "5        Monaco        5           1            20.0               100.0   \n",
       "6      Roumanie       13           2            15.4                76.9   \n",
       "7    Luxembourg        7           1            14.3                85.7   \n",
       "8       Espagne      119          13            10.9                81.5   \n",
       "9        Italie      347          35            10.1                71.5   \n",
       "10      Croatie       10           1            10.0               100.0   \n",
       "11    Hong Kong       10           1            10.0                70.0   \n",
       "12        Suède       32           3             9.4                81.3   \n",
       "13  Royaume-Uni      289          21             7.3                80.3   \n",
       "14     Autriche       18           1             5.6                77.8   \n",
       "15    Allemagne      105           5             4.8                75.2   \n",
       "16   Etats-Unis      150           6             4.0                78.7   \n",
       "17     Pays-Bas       54           2             3.7                77.8   \n",
       "18       France      713          25             3.5                73.4   \n",
       "\n",
       "    topfemalesellersratio  femalesellers  malesellers  topfemalesellers  \\\n",
       "0                   100.0              1            0                 1   \n",
       "1                     0.0              0            2                 0   \n",
       "2                   100.0              4            0                 2   \n",
       "3                   100.0              6            3                 4   \n",
       "4                   100.0              4            0                 1   \n",
       "5                   100.0              5            0                 1   \n",
       "6                    50.0             10            3                 1   \n",
       "7                   100.0              6            1                 1   \n",
       "8                    76.9             97           22                10   \n",
       "9                    65.7            248           99                23   \n",
       "10                  100.0             10            0                 1   \n",
       "11                  100.0              7            3                 1   \n",
       "12                   66.7             26            6                 2   \n",
       "13                   85.7            232           57                18   \n",
       "14                  100.0             14            4                 1   \n",
       "15                   80.0             79           26                 4   \n",
       "16                   83.3            118           32                 5   \n",
       "17                   50.0             42           12                 1   \n",
       "18                   80.0            523          190                20   \n",
       "\n",
       "    topmalesellers  ...  topmeanproductssold  topmeanproductslisted  \\\n",
       "0                0  ...            57.000000              56.000000   \n",
       "1                1  ...            27.000000              14.000000   \n",
       "2                0  ...            40.500000              18.000000   \n",
       "3                0  ...            36.250000              17.250000   \n",
       "4                0  ...            41.000000              66.000000   \n",
       "5                0  ...           170.000000              19.000000   \n",
       "6                1  ...            24.500000              19.500000   \n",
       "7                0  ...            30.000000               0.000000   \n",
       "8                3  ...            46.692308              23.153846   \n",
       "9               12  ...            39.685714              30.771429   \n",
       "10               0  ...            64.000000              44.000000   \n",
       "11               0  ...            23.000000              35.000000   \n",
       "12               1  ...            67.333333              52.000000   \n",
       "13               3  ...            46.285714              21.380952   \n",
       "14               0  ...            20.000000              20.000000   \n",
       "15               1  ...            56.400000              19.800000   \n",
       "16               1  ...            93.000000              71.333333   \n",
       "17               1  ...            23.500000              13.500000   \n",
       "18               5  ...            44.360000              31.680000   \n",
       "\n",
       "    meanproductssold  meanproductslisted  meanofflinedays  topmeanofflinedays  \\\n",
       "0          57.000000           56.000000             11.0                11.0   \n",
       "1          14.000000            7.000000             17.0                15.0   \n",
       "2          20.750000            9.000000            120.3                11.5   \n",
       "3          18.888889            9.111111             98.3                19.0   \n",
       "4          14.000000           20.250000             17.3                11.0   \n",
       "5          38.000000            5.200000             51.6                12.0   \n",
       "6           5.230769            5.923077            121.6                11.0   \n",
       "7           6.142857            1.142857             73.6                11.0   \n",
       "8           8.319328            4.991597            202.4                30.5   \n",
       "9           8.126801            6.391931            141.8                26.5   \n",
       "10         10.700000            6.900000            141.7                11.0   \n",
       "11          5.000000            5.500000             49.6                11.0   \n",
       "12         10.500000            7.218750            118.2                12.7   \n",
       "13          6.249135            3.207612            188.1                32.4   \n",
       "14          3.722222            2.055556            138.7                11.0   \n",
       "15          5.104762            2.514286            168.2                79.4   \n",
       "16          6.446667            5.440000            266.1                76.8   \n",
       "17          3.962963            2.574074            177.4                22.0   \n",
       "18          4.227209            2.653576            227.1                36.6   \n",
       "\n",
       "    meanfollowers  meanfollowing  topmeanfollowers  topmeanfollowing  \n",
       "0            83.0            8.0              83.0               8.0  \n",
       "1            10.5            8.5              15.0               8.0  \n",
       "2            21.0           52.3              38.0              98.5  \n",
       "3            28.6           31.6              46.3              19.0  \n",
       "4            21.3           10.3              39.0              17.0  \n",
       "5            39.6            8.0             167.0               8.0  \n",
       "6            10.9           11.5              30.0              32.0  \n",
       "7            15.9            8.4              52.0               3.0  \n",
       "8            16.1           14.6              53.2              14.5  \n",
       "9            16.1           54.6              63.4             429.3  \n",
       "10           15.1            8.8              50.0               8.0  \n",
       "11           14.7           15.5              36.0              41.0  \n",
       "12           19.8           24.0             102.7             172.0  \n",
       "13           10.1            8.8              37.3               9.1  \n",
       "14            7.0            8.6              17.0              10.0  \n",
       "15           10.7            8.8              53.2              10.6  \n",
       "16           14.6           10.2             105.0              17.2  \n",
       "17           11.4            9.6              21.5              10.0  \n",
       "18            8.9           28.3              41.3             156.2  \n",
       "\n",
       "[19 rows x 26 columns]"
      ]
     },
     "execution_count": 3,
     "metadata": {},
     "output_type": "execute_result"
    }
   ],
   "source": [
    "data"
   ]
  },
  {
   "cell_type": "code",
   "execution_count": 4,
   "id": "75ed0d62",
   "metadata": {},
   "outputs": [
    {
     "name": "stdout",
     "output_type": "stream",
     "text": [
      "<class 'pandas.core.frame.DataFrame'>\n",
      "RangeIndex: 19 entries, 0 to 18\n",
      "Data columns (total 26 columns):\n",
      " #   Column                  Non-Null Count  Dtype  \n",
      "---  ------                  --------------  -----  \n",
      " 0   country                 19 non-null     object \n",
      " 1   sellers                 19 non-null     int64  \n",
      " 2   topsellers              19 non-null     int64  \n",
      " 3   topsellerratio          19 non-null     float64\n",
      " 4   femalesellersratio      19 non-null     float64\n",
      " 5   topfemalesellersratio   19 non-null     float64\n",
      " 6   femalesellers           19 non-null     int64  \n",
      " 7   malesellers             19 non-null     int64  \n",
      " 8   topfemalesellers        19 non-null     int64  \n",
      " 9   topmalesellers          19 non-null     int64  \n",
      " 10  countrysoldratio        19 non-null     float64\n",
      " 11  bestsoldratio           19 non-null     float64\n",
      " 12  toptotalproductssold    19 non-null     int64  \n",
      " 13  totalproductssold       19 non-null     int64  \n",
      " 14  toptotalproductslisted  19 non-null     int64  \n",
      " 15  totalproductslisted     19 non-null     int64  \n",
      " 16  topmeanproductssold     19 non-null     float64\n",
      " 17  topmeanproductslisted   19 non-null     float64\n",
      " 18  meanproductssold        19 non-null     float64\n",
      " 19  meanproductslisted      19 non-null     float64\n",
      " 20  meanofflinedays         19 non-null     float64\n",
      " 21  topmeanofflinedays      19 non-null     float64\n",
      " 22  meanfollowers           19 non-null     float64\n",
      " 23  meanfollowing           19 non-null     float64\n",
      " 24  topmeanfollowers        19 non-null     float64\n",
      " 25  topmeanfollowing        19 non-null     float64\n",
      "dtypes: float64(15), int64(10), object(1)\n",
      "memory usage: 4.0+ KB\n"
     ]
    }
   ],
   "source": [
    "data.info()"
   ]
  },
  {
   "cell_type": "markdown",
   "id": "f65e773a",
   "metadata": {},
   "source": [
    "# Visualize your data"
   ]
  },
  {
   "cell_type": "code",
   "execution_count": 5,
   "id": "f1b3da67",
   "metadata": {},
   "outputs": [
    {
     "data": {
      "text/plain": [
       "Text(0, 0.5, 'Total products listed')"
      ]
     },
     "execution_count": 5,
     "metadata": {},
     "output_type": "execute_result"
    },
    {
     "data": {
      "image/png": "[encoded data removed]",
      "text/plain": [
       "<Figure size 640x480 with 1 Axes>"
      ]
     },
     "metadata": {},
     "output_type": "display_data"
    }
   ],
   "source": [
    "x = data['topsellers']\n",
    "y = data['totalproductslisted']\n",
    "plt.scatter(x, y)\n",
    "\n",
    "plt.title('Distribution')\n",
    "plt.xlabel('Top sellers')\n",
    "plt.ylabel('Total products listed')"
   ]
  },
  {
   "cell_type": "code",
   "execution_count": 6,
   "id": "a7f79a47",
   "metadata": {},
   "outputs": [
    {
     "data": {
      "text/plain": [
       "<Axes: >"
      ]
     },
     "execution_count": 6,
     "metadata": {},
     "output_type": "execute_result"
    },
    {
     "data": {
      "image/png": "[encoded data removed]",
      "text/plain": [
       "<Figure size 640x480 with 2 Axes>"
      ]
     },
     "metadata": {},
     "output_type": "display_data"
    }
   ],
   "source": [
    "data1 = data.iloc[:, [2, 15]]\n",
    "cor = data1.corr()\n",
    "\n",
    "sns.heatmap(cor, square = True)"
   ]
  },
  {
   "cell_type": "markdown",
   "id": "2e27d0f0",
   "metadata": {},
   "source": [
    "# Slice dataset\n",
    "\n",
    "2 topsellers<br>\n",
    "\n",
    "15 totalproductslisted"
   ]
  },
  {
   "cell_type": "code",
   "execution_count": 7,
   "id": "1a943407",
   "metadata": {},
   "outputs": [
    {
     "data": {
      "text/plain": [
       "array([[   1,   56],\n",
       "       [   1,   14],\n",
       "       [   2,   36],\n",
       "       [   4,   82],\n",
       "       [   1,   81],\n",
       "       [   1,   26],\n",
       "       [   2,   77],\n",
       "       [   1,    8],\n",
       "       [  13,  594],\n",
       "       [  35, 2218],\n",
       "       [   1,   69],\n",
       "       [   1,   55],\n",
       "       [   3,  231],\n",
       "       [  21,  927],\n",
       "       [   1,   37],\n",
       "       [   5,  264],\n",
       "       [   6,  816],\n",
       "       [   2,  139],\n",
       "       [  25, 1892]], dtype=int64)"
      ]
     },
     "execution_count": 7,
     "metadata": {},
     "output_type": "execute_result"
    }
   ],
   "source": [
    "X = data.iloc[:, [2, 15]].values\n",
    "X"
   ]
  },
  {
   "cell_type": "markdown",
   "id": "e9d702e0",
   "metadata": {},
   "source": [
    "# Normalize dataset "
   ]
  },
  {
   "cell_type": "code",
   "execution_count": 8,
   "id": "7b641aeb",
   "metadata": {},
   "outputs": [],
   "source": [
    "from sklearn.cluster import KMeans\n",
    "from sklearn.metrics import silhouette_score\n",
    "from sklearn.preprocessing import StandardScaler"
   ]
  },
  {
   "cell_type": "code",
   "execution_count": 9,
   "id": "4b6f94c2",
   "metadata": {},
   "outputs": [
    {
     "data": {
      "text/plain": [
       "array([[-0.59010743, -0.54952639],\n",
       "       [-0.59010743, -0.61639466],\n",
       "       [-0.485322  , -0.58136842],\n",
       "       [-0.27575114, -0.50813176],\n",
       "       [-0.59010743, -0.50972386],\n",
       "       [-0.59010743, -0.59728944],\n",
       "       [-0.485322  , -0.51609226],\n",
       "       [-0.59010743, -0.62594726],\n",
       "       [ 0.66731775,  0.3070242 ],\n",
       "       [ 2.97259724,  2.892597  ],\n",
       "       [-0.59010743, -0.52882907],\n",
       "       [-0.59010743, -0.5511185 ],\n",
       "       [-0.38053657, -0.27090864],\n",
       "       [ 1.5056012 ,  0.83719399],\n",
       "       [-0.59010743, -0.57977632],\n",
       "       [-0.1709657 , -0.21836929],\n",
       "       [-0.06618027,  0.66047073],\n",
       "       [-0.485322  , -0.41738197],\n",
       "       [ 1.92474292,  2.37357192]])"
      ]
     },
     "execution_count": 9,
     "metadata": {},
     "output_type": "execute_result"
    }
   ],
   "source": [
    "ss = StandardScaler()\n",
    "X = data.iloc[:, [2, 15]].values\n",
    "XX = ss.fit_transform(X)\n",
    "XX"
   ]
  },
  {
   "cell_type": "markdown",
   "id": "e32d01b1",
   "metadata": {},
   "source": [
    "# Use elbow method"
   ]
  },
  {
   "cell_type": "code",
   "execution_count": 10,
   "id": "a018b84d",
   "metadata": {},
   "outputs": [
    {
     "name": "stderr",
     "output_type": "stream",
     "text": [
      "C:\\Users\\mohdz\\anaconda3\\Lib\\site-packages\\sklearn\\cluster\\_kmeans.py:1412: FutureWarning: The default value of `n_init` will change from 10 to 'auto' in 1.4. Set the value of `n_init` explicitly to suppress the warning\n",
      "  super()._check_params_vs_input(X, default_n_init=10)\n",
      "C:\\Users\\mohdz\\anaconda3\\Lib\\site-packages\\sklearn\\cluster\\_kmeans.py:1436: UserWarning: KMeans is known to have a memory leak on Windows with MKL, when there are less chunks than available threads. You can avoid it by setting the environment variable OMP_NUM_THREADS=1.\n",
      "  warnings.warn(\n",
      "C:\\Users\\mohdz\\anaconda3\\Lib\\site-packages\\sklearn\\cluster\\_kmeans.py:1412: FutureWarning: The default value of `n_init` will change from 10 to 'auto' in 1.4. Set the value of `n_init` explicitly to suppress the warning\n",
      "  super()._check_params_vs_input(X, default_n_init=10)\n",
      "C:\\Users\\mohdz\\anaconda3\\Lib\\site-packages\\sklearn\\cluster\\_kmeans.py:1436: UserWarning: KMeans is known to have a memory leak on Windows with MKL, when there are less chunks than available threads. You can avoid it by setting the environment variable OMP_NUM_THREADS=1.\n",
      "  warnings.warn(\n",
      "C:\\Users\\mohdz\\anaconda3\\Lib\\site-packages\\sklearn\\cluster\\_kmeans.py:1412: FutureWarning: The default value of `n_init` will change from 10 to 'auto' in 1.4. Set the value of `n_init` explicitly to suppress the warning\n",
      "  super()._check_params_vs_input(X, default_n_init=10)\n",
      "C:\\Users\\mohdz\\anaconda3\\Lib\\site-packages\\sklearn\\cluster\\_kmeans.py:1436: UserWarning: KMeans is known to have a memory leak on Windows with MKL, when there are less chunks than available threads. You can avoid it by setting the environment variable OMP_NUM_THREADS=1.\n",
      "  warnings.warn(\n",
      "C:\\Users\\mohdz\\anaconda3\\Lib\\site-packages\\sklearn\\cluster\\_kmeans.py:1412: FutureWarning: The default value of `n_init` will change from 10 to 'auto' in 1.4. Set the value of `n_init` explicitly to suppress the warning\n",
      "  super()._check_params_vs_input(X, default_n_init=10)\n",
      "C:\\Users\\mohdz\\anaconda3\\Lib\\site-packages\\sklearn\\cluster\\_kmeans.py:1436: UserWarning: KMeans is known to have a memory leak on Windows with MKL, when there are less chunks than available threads. You can avoid it by setting the environment variable OMP_NUM_THREADS=1.\n",
      "  warnings.warn(\n",
      "C:\\Users\\mohdz\\anaconda3\\Lib\\site-packages\\sklearn\\cluster\\_kmeans.py:1412: FutureWarning: The default value of `n_init` will change from 10 to 'auto' in 1.4. Set the value of `n_init` explicitly to suppress the warning\n",
      "  super()._check_params_vs_input(X, default_n_init=10)\n",
      "C:\\Users\\mohdz\\anaconda3\\Lib\\site-packages\\sklearn\\cluster\\_kmeans.py:1436: UserWarning: KMeans is known to have a memory leak on Windows with MKL, when there are less chunks than available threads. You can avoid it by setting the environment variable OMP_NUM_THREADS=1.\n",
      "  warnings.warn(\n",
      "C:\\Users\\mohdz\\anaconda3\\Lib\\site-packages\\sklearn\\cluster\\_kmeans.py:1412: FutureWarning: The default value of `n_init` will change from 10 to 'auto' in 1.4. Set the value of `n_init` explicitly to suppress the warning\n",
      "  super()._check_params_vs_input(X, default_n_init=10)\n",
      "C:\\Users\\mohdz\\anaconda3\\Lib\\site-packages\\sklearn\\cluster\\_kmeans.py:1436: UserWarning: KMeans is known to have a memory leak on Windows with MKL, when there are less chunks than available threads. You can avoid it by setting the environment variable OMP_NUM_THREADS=1.\n",
      "  warnings.warn(\n",
      "C:\\Users\\mohdz\\anaconda3\\Lib\\site-packages\\sklearn\\cluster\\_kmeans.py:1412: FutureWarning: The default value of `n_init` will change from 10 to 'auto' in 1.4. Set the value of `n_init` explicitly to suppress the warning\n",
      "  super()._check_params_vs_input(X, default_n_init=10)\n",
      "C:\\Users\\mohdz\\anaconda3\\Lib\\site-packages\\sklearn\\cluster\\_kmeans.py:1436: UserWarning: KMeans is known to have a memory leak on Windows with MKL, when there are less chunks than available threads. You can avoid it by setting the environment variable OMP_NUM_THREADS=1.\n",
      "  warnings.warn(\n",
      "C:\\Users\\mohdz\\anaconda3\\Lib\\site-packages\\sklearn\\cluster\\_kmeans.py:1412: FutureWarning: The default value of `n_init` will change from 10 to 'auto' in 1.4. Set the value of `n_init` explicitly to suppress the warning\n",
      "  super()._check_params_vs_input(X, default_n_init=10)\n",
      "C:\\Users\\mohdz\\anaconda3\\Lib\\site-packages\\sklearn\\cluster\\_kmeans.py:1436: UserWarning: KMeans is known to have a memory leak on Windows with MKL, when there are less chunks than available threads. You can avoid it by setting the environment variable OMP_NUM_THREADS=1.\n",
      "  warnings.warn(\n",
      "C:\\Users\\mohdz\\anaconda3\\Lib\\site-packages\\sklearn\\cluster\\_kmeans.py:1412: FutureWarning: The default value of `n_init` will change from 10 to 'auto' in 1.4. Set the value of `n_init` explicitly to suppress the warning\n",
      "  super()._check_params_vs_input(X, default_n_init=10)\n",
      "C:\\Users\\mohdz\\anaconda3\\Lib\\site-packages\\sklearn\\cluster\\_kmeans.py:1436: UserWarning: KMeans is known to have a memory leak on Windows with MKL, when there are less chunks than available threads. You can avoid it by setting the environment variable OMP_NUM_THREADS=1.\n",
      "  warnings.warn(\n",
      "C:\\Users\\mohdz\\anaconda3\\Lib\\site-packages\\sklearn\\cluster\\_kmeans.py:1412: FutureWarning: The default value of `n_init` will change from 10 to 'auto' in 1.4. Set the value of `n_init` explicitly to suppress the warning\n",
      "  super()._check_params_vs_input(X, default_n_init=10)\n",
      "C:\\Users\\mohdz\\anaconda3\\Lib\\site-packages\\sklearn\\cluster\\_kmeans.py:1436: UserWarning: KMeans is known to have a memory leak on Windows with MKL, when there are less chunks than available threads. You can avoid it by setting the environment variable OMP_NUM_THREADS=1.\n",
      "  warnings.warn(\n"
     ]
    },
    {
     "data": {
      "image/png": "[encoded data removed]",
      "text/plain": [
       "<Figure size 640x480 with 1 Axes>"
      ]
     },
     "metadata": {},
     "output_type": "display_data"
    }
   ],
   "source": [
    "from sklearn.cluster import KMeans\n",
    "\n",
    "wcss = []\n",
    "\n",
    "for i in range(1,11):\n",
    "    kmeans = KMeans(n_clusters = i, init='k-means++', random_state = 42)\n",
    "    kmeans.fit(XX)\n",
    "    wcss.append(kmeans.inertia_)\n",
    "\n",
    "plt.plot(range(1,11), wcss)\n",
    "plt.title('The Elbow Method')\n",
    "plt.xlabel('Number of clusters')\n",
    "plt.ylabel('WCSS')\n",
    "plt.show()"
   ]
  },
  {
   "cell_type": "markdown",
   "id": "47734dc4",
   "metadata": {},
   "source": [
    "# Clustering using Kmeans"
   ]
  },
  {
   "cell_type": "code",
   "execution_count": 11,
   "id": "b46077c3",
   "metadata": {},
   "outputs": [
    {
     "name": "stderr",
     "output_type": "stream",
     "text": [
      "C:\\Users\\mohdz\\anaconda3\\Lib\\site-packages\\sklearn\\cluster\\_kmeans.py:1436: UserWarning: KMeans is known to have a memory leak on Windows with MKL, when there are less chunks than available threads. You can avoid it by setting the environment variable OMP_NUM_THREADS=1.\n",
      "  warnings.warn(\n"
     ]
    },
    {
     "data": {
      "text/plain": [
       "array([0, 0, 0, 0, 0, 0, 0, 0, 2, 1, 0, 0, 0, 2, 0, 0, 2, 0, 1])"
      ]
     },
     "execution_count": 11,
     "metadata": {},
     "output_type": "execute_result"
    }
   ],
   "source": [
    "kmeans = KMeans(n_clusters = 3, n_init = 'auto', random_state = 42)  \n",
    "y_kmeans = kmeans.fit_predict(XX)\n",
    "y_kmeans"
   ]
  },
  {
   "cell_type": "markdown",
   "id": "345e425a",
   "metadata": {},
   "source": [
    "# Clustering using Hieracical "
   ]
  },
  {
   "cell_type": "code",
   "execution_count": 12,
   "id": "5d8739e2",
   "metadata": {},
   "outputs": [
    {
     "data": {
      "image/png": "[encoded data removed]",
      "text/plain": [
       "<Figure size 640x480 with 1 Axes>"
      ]
     },
     "metadata": {},
     "output_type": "display_data"
    }
   ],
   "source": [
    "import scipy.cluster.hierarchy as sch\n",
    "dendrogram = sch.dendrogram(sch.linkage(X, method = 'ward'))\n",
    "plt.title('Dendrogram')\n",
    "plt.xlabel('Top sellers')\n",
    "plt.ylabel('Euclidean distance')\n",
    "plt.show()"
   ]
  },
  {
   "cell_type": "code",
   "execution_count": 13,
   "id": "c2b9d231",
   "metadata": {},
   "outputs": [
    {
     "name": "stderr",
     "output_type": "stream",
     "text": [
      "C:\\Users\\mohdz\\anaconda3\\Lib\\site-packages\\sklearn\\cluster\\_agglomerative.py:1005: FutureWarning: Attribute `affinity` was deprecated in version 1.2 and will be removed in 1.4. Use `metric` instead\n",
      "  warnings.warn(\n"
     ]
    }
   ],
   "source": [
    "from sklearn.cluster import AgglomerativeClustering\n",
    "hc = AgglomerativeClustering(n_clusters = 3, affinity = 'euclidean', linkage = 'ward')\n",
    "y_hc = hc.fit_predict(X)"
   ]
  },
  {
   "cell_type": "code",
   "execution_count": 14,
   "id": "46dc5d65",
   "metadata": {},
   "outputs": [
    {
     "data": {
      "image/png": "[encoded data removed]",
      "text/plain": [
       "<Figure size 640x480 with 1 Axes>"
      ]
     },
     "metadata": {},
     "output_type": "display_data"
    }
   ],
   "source": [
    "plt.scatter(X[y_hc == 0, 0], X[y_hc == 0, 1], s = 100, c = 'red', label = 'Cluster 1')\n",
    "plt.scatter(X[y_hc == 1, 0], X[y_hc == 1, 1], s = 100, c = 'blue', label = 'Cluster 2')\n",
    "plt.scatter(X[y_hc == 2, 0], X[y_hc == 2, 1], s = 100, c = 'green', label = 'Cluster 3')\n",
    "\n",
    "plt.title('Clusters of top sellers')\n",
    "plt.xlabel('Top sellers')\n",
    "plt.ylabel('Total products listed')\n",
    "plt.legend()\n",
    "plt.show() "
   ]
  },
  {
   "cell_type": "markdown",
   "id": "bf55684e",
   "metadata": {},
   "source": [
    "# Silhouette score"
   ]
  },
  {
   "cell_type": "code",
   "execution_count": 15,
   "id": "b28d55a0",
   "metadata": {},
   "outputs": [
    {
     "name": "stdout",
     "output_type": "stream",
     "text": [
      "0.7429155534862316\n"
     ]
    }
   ],
   "source": [
    "score = silhouette_score(XX, kmeans.labels_, metric='euclidean')\n",
    "print(score)"
   ]
  },
  {
   "cell_type": "markdown",
   "id": "ec25bf7a",
   "metadata": {},
   "source": [
    "# Visualization after clustering"
   ]
  },
  {
   "cell_type": "code",
   "execution_count": 16,
   "id": "b88d06fc",
   "metadata": {},
   "outputs": [
    {
     "data": {
      "image/png": "[encoded data removed]",
      "text/plain": [
       "<Figure size 640x480 with 1 Axes>"
      ]
     },
     "metadata": {},
     "output_type": "display_data"
    }
   ],
   "source": [
    "sns.scatterplot(x = XX[:, 0], y = XX[:, 1], hue = [\"cluster-{}\".format(x) for x in y_kmeans])\n",
    "plt.scatter(kmeans.cluster_centers_[:, 0], kmeans.cluster_centers_[:, 1], s = 200, c = 'orange', label = 'Centroids')\n",
    "plt.title('Clusters of top seller')\n",
    "plt.xlabel('top sellers')\n",
    "plt.ylabel('total products listed')\n",
    "plt.legend(bbox_to_anchor = (1.05, 1), loc = 0, borderaxespad = 0.)\n",
    "\n",
    "plt.show()"
   ]
  }
 ],
 "metadata": {
  "kernelspec": {
   "display_name": "Python 3 (ipykernel)",
   "language": "python",
   "name": "python3"
  },
  "language_info": {
   "codemirror_mode": {
    "name": "ipython",
    "version": 3
   },
   "file_extension": ".py",
   "mimetype": "text/x-python",
   "name": "python",
   "nbconvert_exporter": "python",
   "pygments_lexer": "ipython3",
   "version": "3.11.5"
  },
  "toc": {
   "base_numbering": 1,
   "nav_menu": {},
   "number_sections": true,
   "sideBar": false,
   "skip_h1_title": true,
   "title_cell": "Table of Contents",
   "title_sidebar": "Contents",
   "toc_cell": false,
   "toc_position": {
    "height": "443.2px",
    "left": "39px",
    "top": "140.4px",
    "width": "127.675px"
   },
   "toc_section_display": false,
   "toc_window_display": true
  }
 },
 "nbformat": 4,
 "nbformat_minor": 5
}
